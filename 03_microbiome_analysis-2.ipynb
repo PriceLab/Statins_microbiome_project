{
 "cells": [
  {
   "cell_type": "markdown",
   "metadata": {},
   "source": [
    "#Rarefaction, beta-diversity analysis and alpha-diversity calculations"
   ]
  },
  {
   "cell_type": "code",
   "execution_count": 1,
   "metadata": {},
   "outputs": [
    {
     "name": "stderr",
     "output_type": "stream",
     "text": [
      "Loading required package: permute\n",
      "Loading required package: lattice\n",
      "This is vegan 2.5-7\n",
      "\n",
      "Attaching package: ‘dplyr’\n",
      "\n",
      "The following objects are masked from ‘package:plyr’:\n",
      "\n",
      "    arrange, count, desc, failwith, id, mutate, rename, summarise,\n",
      "    summarize\n",
      "\n",
      "The following objects are masked from ‘package:stats’:\n",
      "\n",
      "    filter, lag\n",
      "\n",
      "The following objects are masked from ‘package:base’:\n",
      "\n",
      "    intersect, setdiff, setequal, union\n",
      "\n"
     ]
    }
   ],
   "source": [
    "#Import packages\n",
    "library(phyloseq)\n",
    "library(vegan)\n",
    "library(ggplot2)\n",
    "library(pspearman)\n",
    "library(OneR)\n",
    "library(plyr)\n",
    "library(dplyr)"
   ]
  },
  {
   "cell_type": "code",
   "execution_count": 2,
   "metadata": {},
   "outputs": [],
   "source": [
    "#import phyloseq object with 16s count data and metadata\n",
    "data<-readRDS('statins_16S.rds')"
   ]
  },
  {
   "cell_type": "code",
   "execution_count": 3,
   "metadata": {},
   "outputs": [
    {
     "name": "stdout",
     "output_type": "stream",
     "text": [
      "[1] 25596\n"
     ]
    },
    {
     "name": "stderr",
     "output_type": "stream",
     "text": [
      "`set.seed(321)` was used to initialize repeatable random subsampling.\n",
      "Please record this for your records so others can reproduce.\n",
      "Try `set.seed(321); .Random.seed` for the full vector\n",
      "...\n",
      "51614OTUs were removed because they are no longer \n",
      "present in any sample after random subsampling\n",
      "\n",
      "...\n"
     ]
    }
   ],
   "source": [
    "#Rarefy the dataset to even depth\n",
    "print(min(sample_sums(data)))\n",
    "rarefied_data=rarefy_even_depth(data, sample.size = min(sample_sums(data)),\n",
    "  rngseed = 321, replace = FALSE, trimOTUs = TRUE, verbose = TRUE)\n",
    "#save the rarefied phyloseq object file\n",
    "saveRDS(rarefied_data,'rarefied_16s.rds')"
   ]
  },
  {
   "cell_type": "code",
   "execution_count": 4,
   "metadata": {},
   "outputs": [
    {
     "data": {
      "text/plain": [
       "phyloseq-class experiment-level object\n",
       "otu_table()   OTU Table:         [ 37408 taxa and 1512 samples ]\n",
       "sample_data() Sample Data:       [ 1512 samples by 32 sample variables ]\n",
       "tax_table()   Taxonomy Table:    [ 37408 taxa by 8 taxonomic ranks ]\n",
       "phy_tree()    Phylogenetic Tree: [ 37408 tips and 35496 internal nodes ]"
      ]
     },
     "metadata": {},
     "output_type": "display_data"
    }
   ],
   "source": [
    "rarefied_data<-readRDS('rarefied_16s.rds')\n",
    "rarefied_data"
   ]
  },
  {
   "cell_type": "code",
   "execution_count": 5,
   "metadata": {},
   "outputs": [],
   "source": [
    "rarefied_phylum<-tax_glom(rarefied_data,\"Phylum\")"
   ]
  },
  {
   "cell_type": "code",
   "execution_count": 6,
   "metadata": {},
   "outputs": [],
   "source": [
    "rarefied_genus<-tax_glom(rarefied_data,\"Genus\")"
   ]
  },
  {
   "cell_type": "code",
   "execution_count": 7,
   "metadata": {},
   "outputs": [],
   "source": [
    "saveRDS(rarefied_genus,'rarefied_genus_16S.rds')"
   ]
  },
  {
   "cell_type": "code",
   "execution_count": 8,
   "metadata": {},
   "outputs": [],
   "source": [
    "rarefied_genus<-readRDS('rarefied_genus_16S.rds')"
   ]
  },
  {
   "cell_type": "code",
   "execution_count": 9,
   "metadata": {},
   "outputs": [
    {
     "data": {
      "text/plain": [
       "\n",
       "Call:\n",
       "adonis(formula = bray ~ Group * HMG, data = metadata, permutations = 3000) \n",
       "\n",
       "Permutation: free\n",
       "Number of permutations: 3000\n",
       "\n",
       "Terms added sequentially (first to last)\n",
       "\n",
       "            Df SumsOfSqs MeanSqs F.Model      R2    Pr(>F)    \n",
       "Group        1     0.532 0.53244  3.7513 0.00247 0.0006664 ***\n",
       "HMG          1     0.426 0.42600  3.0014 0.00198 0.0013329 ** \n",
       "Group:HMG    1     0.362 0.36208  2.5510 0.00168 0.0069977 ** \n",
       "Residuals 1508   214.040 0.14194         0.99387              \n",
       "Total     1511   215.361                 1.00000              \n",
       "---\n",
       "Signif. codes:  0 ‘***’ 0.001 ‘**’ 0.01 ‘*’ 0.05 ‘.’ 0.1 ‘ ’ 1"
      ]
     },
     "metadata": {},
     "output_type": "display_data"
    },
    {
     "data": {
      "text/plain": [
       "\n",
       "Call:\n",
       "adonis(formula = bray ~ vendor_microbiome + BMI + sex + age +      Group * HMG, data = metadata, permutations = 3000) \n",
       "\n",
       "Permutation: free\n",
       "Number of permutations: 3000\n",
       "\n",
       "Terms added sequentially (first to last)\n",
       "\n",
       "                    Df SumsOfSqs MeanSqs F.Model      R2    Pr(>F)    \n",
       "vendor_microbiome    1     7.831  7.8308  58.303 0.03636 0.0003332 ***\n",
       "BMI                  1     2.049  2.0489  15.255 0.00951 0.0003332 ***\n",
       "sex                  1     1.406  1.4065  10.472 0.00653 0.0003332 ***\n",
       "age                  1     1.232  1.2315   9.169 0.00572 0.0003332 ***\n",
       "Group                1     0.453  0.4526   3.370 0.00210 0.0016661 ** \n",
       "HMG                  1     0.146  0.1459   1.087 0.00068 0.3458847    \n",
       "Group:HMG            1     0.239  0.2392   1.781 0.00111 0.0449850 *  \n",
       "Residuals         1504   202.005  0.1343         0.93799              \n",
       "Total             1511   215.361                 1.00000              \n",
       "---\n",
       "Signif. codes:  0 ‘***’ 0.001 ‘**’ 0.01 ‘*’ 0.05 ‘.’ 0.1 ‘ ’ 1"
      ]
     },
     "metadata": {},
     "output_type": "display_data"
    }
   ],
   "source": [
    "#Perform beta-diversity analysis on the bray-curtis dissimilarity matrix\n",
    "set.seed(123)\n",
    "metadata <- as(sample_data(rarefied_genus), \"data.frame\")\n",
    "#calculate distance matrix\n",
    "bray<-distance(rarefied_genus, method=\"bray\")\n",
    "#test for association between interindividual gut microbiome variation and statin use, statin*HMG interaction\n",
    "adonis(bray~ Group*HMG,\n",
    "       data = metadata,permutations = 3000)\n",
    "adonis(bray ~ vendor_microbiome+BMI+sex+age+Group*HMG,\n",
    "       data = metadata,permutations = 3000)"
   ]
  },
  {
   "cell_type": "code",
   "execution_count": 10,
   "metadata": {},
   "outputs": [
    {
     "data": {
      "text/plain": [
       "\n",
       "Call:\n",
       "adonis(formula = wunifrac ~ Group * HMG, data = metadata, permutations = 3000) \n",
       "\n",
       "Permutation: free\n",
       "Number of permutations: 3000\n",
       "\n",
       "Terms added sequentially (first to last)\n",
       "\n",
       "            Df SumsOfSqs MeanSqs F.Model      R2   Pr(>F)   \n",
       "Group        1     0.192 0.19182  2.6108 0.00172 0.030656 * \n",
       "HMG          1     0.287 0.28666  3.9017 0.00257 0.005665 **\n",
       "Group:HMG    1     0.352 0.35227  4.7947 0.00316 0.001333 **\n",
       "Residuals 1508   110.794 0.07347         0.99256            \n",
       "Total     1511   111.625                 1.00000            \n",
       "---\n",
       "Signif. codes:  0 ‘***’ 0.001 ‘**’ 0.01 ‘*’ 0.05 ‘.’ 0.1 ‘ ’ 1"
      ]
     },
     "metadata": {},
     "output_type": "display_data"
    },
    {
     "data": {
      "text/plain": [
       "\n",
       "Call:\n",
       "adonis(formula = wunifrac ~ vendor_microbiome + BMI + sex + age +      Group * HMG, data = metadata, permutations = 3000) \n",
       "\n",
       "Permutation: free\n",
       "Number of permutations: 3000\n",
       "\n",
       "Terms added sequentially (first to last)\n",
       "\n",
       "                    Df SumsOfSqs MeanSqs F.Model      R2    Pr(>F)    \n",
       "vendor_microbiome    1     6.288  6.2880  92.177 0.05633 0.0003332 ***\n",
       "BMI                  1     1.149  1.1493  16.848 0.01030 0.0003332 ***\n",
       "sex                  1     0.499  0.4986   7.309 0.00447 0.0006664 ***\n",
       "age                  1     0.673  0.6729   9.865 0.00603 0.0003332 ***\n",
       "Group                1     0.148  0.1480   2.170 0.00133 0.0646451 .  \n",
       "HMG                  1     0.052  0.0521   0.763 0.00047 0.5478174    \n",
       "Group:HMG            1     0.218  0.2177   3.191 0.00195 0.0116628 *  \n",
       "Residuals         1504   102.598  0.0682         0.91913              \n",
       "Total             1511   111.625                 1.00000              \n",
       "---\n",
       "Signif. codes:  0 ‘***’ 0.001 ‘**’ 0.01 ‘*’ 0.05 ‘.’ 0.1 ‘ ’ 1"
      ]
     },
     "metadata": {},
     "output_type": "display_data"
    }
   ],
   "source": [
    "#Perform beta-diversity analysis on the Weighted Unifrac dissimilarity matrix\n",
    "set.seed(123)\n",
    "wunifrac<-distance(rarefied_genus, method=\"wunifrac\")\n",
    "#test for association between interindividual gut microbiome variation and statin use\n",
    "adonis(wunifrac~ Group*HMG,\n",
    "       data = metadata,permutations = 3000)\n",
    "adonis(wunifrac~ vendor_microbiome+BMI+sex+age+Group*HMG,\n",
    "       data = metadata,permutations = 3000)"
   ]
  },
  {
   "cell_type": "code",
   "execution_count": 11,
   "metadata": {},
   "outputs": [],
   "source": [
    "rarefied_genotek<-readRDS('rarefied_16s.rds')\n",
    "#calculate alpha-diversity measures rarefied using ASV count data\n",
    "richness_df<-estimate_richness(rarefied_genotek,measures=c('Observed','Shannon'))"
   ]
  },
  {
   "cell_type": "code",
   "execution_count": 12,
   "metadata": {},
   "outputs": [],
   "source": [
    "#add participant id to the df\n",
    "richness_df$public_client_id<-sample_data(rarefied_genotek)$public_client_id"
   ]
  },
  {
   "cell_type": "code",
   "execution_count": 13,
   "metadata": {},
   "outputs": [],
   "source": [
    "#export alpha-diversity dataframe for further statistical analysis\n",
    "write.csv(richness_df,'richness_df.csv')"
   ]
  },
  {
   "cell_type": "code",
   "execution_count": null,
   "metadata": {},
   "outputs": [],
   "source": []
  }
 ],
 "metadata": {
  "kernelspec": {
   "display_name": "arivale-r - R",
   "language": "R",
   "name": "conda-env-arivale-r-r"
  },
  "language_info": {
   "codemirror_mode": "r",
   "file_extension": ".r",
   "mimetype": "text/x-r-source",
   "name": "R",
   "pygments_lexer": "r",
   "version": "3.6.1"
  }
 },
 "nbformat": 4,
 "nbformat_minor": 4
}
