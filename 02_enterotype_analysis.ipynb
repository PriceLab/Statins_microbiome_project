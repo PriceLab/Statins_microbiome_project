{
 "cells": [
  {
   "cell_type": "markdown",
   "metadata": {},
   "source": [
    "#Enterotype identification and generating Figure 3"
   ]
  },
  {
   "cell_type": "code",
   "execution_count": null,
   "metadata": {},
   "outputs": [],
   "source": [
    "#Import packages\n",
    "library(phyloseq)\n",
    "library(vegan)\n",
    "library(ggplot2)\n",
    "library(OneR)\n",
    "library(plyr)\n",
    "library(dplyr)\n",
    "library(microbiome)\n",
    "library(DirichletMultinomial)\n",
    "library(reshape2)\n",
    "library(magrittr)"
   ]
  },
  {
   "cell_type": "code",
   "execution_count": null,
   "metadata": {},
   "outputs": [],
   "source": [
    "# Load genus-level rarefied Arivale data\n",
    "df<-readRDS('rarefied_genus_16S.rds')\n",
    "#check the phyloseq object\n",
    "df"
   ]
  },
  {
   "cell_type": "code",
   "execution_count": null,
   "metadata": {},
   "outputs": [],
   "source": [
    "# extract the genus count matrix and convert it into samples x taxa format\n",
    "dat <- abundances(df)\n",
    "count <- as.matrix(t(dat))\n",
    "head(count)\n",
    "#check dimensions\n",
    "dim(count)"
   ]
  },
  {
   "cell_type": "code",
   "execution_count": null,
   "metadata": {},
   "outputs": [],
   "source": [
    "#apply dirichlet multinomial modeling with 1-8 clusters\n",
    "fit <- lapply(1:8, dmn, count=count, verbose=TRUE,seed=1234)"
   ]
  },
  {
   "cell_type": "code",
   "execution_count": null,
   "metadata": {},
   "outputs": [],
   "source": [
    "#plot BIC fit\n",
    "bic  <- sapply(fit, BIC)\n",
    "plot(bic, type=\"b\", xlab=\"Number of Dirichlet Components\", ylab=\"Model Fit\")"
   ]
  },
  {
   "cell_type": "code",
   "execution_count": null,
   "metadata": {},
   "outputs": [],
   "source": [
    "lplc <- sapply(fit, laplace) # Laplace"
   ]
  },
  {
   "cell_type": "code",
   "execution_count": null,
   "metadata": {},
   "outputs": [],
   "source": [
    "plot(lplc, type=\"b\", xlab=\"Number of Dirichlet Components\", ylab=\"Model Fit\")"
   ]
  },
  {
   "cell_type": "code",
   "execution_count": null,
   "metadata": {},
   "outputs": [],
   "source": [
    "#choose best number of clusters\n",
    "best <- fit[[which.min(unlist(bic))]]\n",
    "best\n",
    "#assign samples to each enterotype\n",
    "ass <- apply(mixture(best), 1, which.max)\n",
    "sample_data(df)$entero<-as.factor(ass)\n",
    "#save phyloseq object with enterotype classification\n",
    "saveRDS(df,'entero_df.rds')"
   ]
  },
  {
   "cell_type": "code",
   "execution_count": null,
   "metadata": {},
   "outputs": [],
   "source": [
    "#read phyloseq object with enterotype assignment\n",
    "df<-readRDS('entero_df.rds')\n",
    "sample_data(df)<-sample_data(df)[order(sample_data(df)$public_client_id),] "
   ]
  },
  {
   "cell_type": "code",
   "execution_count": null,
   "metadata": {},
   "outputs": [],
   "source": [
    "#import metadata\n",
    "metab<-read.csv('statins_df.csv')\n",
    "#correct id (the zero for some reason gets removed in R)\n",
    "metab$V1 <- sub(\"^\", \"0\", metab$public_client_id)\n",
    "#filter samples based on those that have microbiome data\n",
    "ids<-c(sample_data(df)$public_client_id)\n",
    "metab<-metab %>% filter(V1 %in% ids)\n",
    "metab<-metab[order(metab$public_client_id),]\n",
    "dim(metab)"
   ]
  },
  {
   "cell_type": "code",
   "execution_count": null,
   "metadata": {},
   "outputs": [],
   "source": [
    "#save metadata to csv\n",
    "write.csv(metab,'entero_df.csv')"
   ]
  },
  {
   "cell_type": "code",
   "execution_count": null,
   "metadata": {},
   "outputs": [],
   "source": [
    "#generate a genus level table with genus as names\n",
    "OTU_df = as(otu_table(df), \"matrix\")\n",
    "# transpose if necessary\n",
    "if(taxa_are_rows(df)){OTU_df <- t(OTU_df)}\n",
    "# Coerce to data.frame\n",
    "OTU_df = as.data.frame(OTU_df)\n",
    "colnames(OTU_df)<-c(tax_table(df)[,6])\n",
    "#add enterotype and index columns\n",
    "OTU_df$entero<-sample_data(df)$entero\n",
    "OTU_df$public_client_id<-sample_data(df)$public_client_id\n",
    "write.csv(OTU_df,\"genus_table.csv\")"
   ]
  },
  {
   "cell_type": "code",
   "execution_count": null,
   "metadata": {},
   "outputs": [],
   "source": [
    "#create relative abundance genus tables ploting major taxa across enterotypes\n",
    "OTU_df = as(otu_table(df), \"matrix\")/sample_sums(df)\n",
    "# transpose if necessary\n",
    "if(taxa_are_rows(df)){OTU_df <- t(OTU_df)}\n",
    "# Coerce to data.frame\n",
    "OTU_df = as.data.frame(OTU_df)\n",
    "colnames(OTU_df)<-c(tax_table(df)[,6])\n",
    "OTU_df$entero<-sample_data(df)$entero\n",
    "OTU_df$public_client_id<-sample_data(df)$public_client_id\n",
    "#plot major taxa shown in figure 3\n",
    "color_scheme=c(\"orange2\", \"slategray1\", \"steelblue4\",\"yellowgreen\")\n",
    "p = ggplot(OTU_df, aes(entero,Faecalibacterium,fill=factor(entero))) + theme_bw()+ scale_fill_manual(values = color_scheme)+stat_boxplot(geom = \"errorbar\", width = .5)+geom_boxplot(outlier.size = .4)+theme(text=element_text(size=14))\n",
    "p+theme(panel.grid.major = element_blank(), panel.grid.minor = element_blank(),\n",
    "panel.background = element_blank(), axis.line = element_line(colour = \"black\"))\n",
    "ggsave(\"faecalibacterium.pdf\", width = 4, height = 4)\n",
    "p = ggplot(OTU_df, aes(entero,Bacteroides,fill=factor(entero)))\n",
    "p+theme_bw()+scale_fill_manual(values = color_scheme)+stat_boxplot(geom = \"errorbar\", width = .5)+geom_boxplot(outlier.size = .4)+theme(text=element_text(size=14))+theme(panel.grid.major = element_blank(), panel.grid.minor = element_blank(),\n",
    "panel.background = element_blank(), axis.line = element_line(colour = \"black\"))\n",
    "ggsave(\"Bacteroides.pdf\", width = 4, height = 4)\n",
    "p = ggplot(OTU_df, aes(entero,Prevotella_9,fill=factor(entero)))\n",
    "p+theme_bw()+scale_fill_manual(values = color_scheme)+stat_boxplot(geom = \"errorbar\", width = .5)+geom_boxplot(outlier.size = .4)+theme(text=element_text(size=14))+theme(panel.grid.major = element_blank(), panel.grid.minor = element_blank(),\n",
    "panel.background = element_blank(), axis.line = element_line(colour = \"black\"))\n",
    "ggsave(\"prevotella.pdf\", width = 4, height = 4)"
   ]
  },
  {
   "cell_type": "code",
   "execution_count": null,
   "metadata": {},
   "outputs": [],
   "source": [
    "#generate a Bray-Curtis PCoA plot color-coded by enterotype (Fig.3A)\n",
    "GP.ord <- ordinate(df, \"PCoA\", \"bray\")\n",
    "p1 = plot_ordination(df, GP.ord, type=\"samples\", color=\"entero\", title=\"enterotypes\")\n",
    "color_scheme=c(\"orange2\", \"slategray1\", \"steelblue4\",\"yellowgreen\")\n",
    "#p1+theme_bw()+scale_fill_manual(values=color_scheme)+theme(text=element_text(size=14))+geom_point(size=3)+geom_point(shape = 1,size = 3.0,colour = \"black\",stroke=0.25)\n",
    "p1+theme_bw()+scale_color_manual(values = color_scheme)+theme(text=element_text(size=18))+geom_point(size=3)+geom_point(shape = 1,size = 3.0,colour = \"black\",stroke=0.1)\n",
    "ggsave(\"PCoA_entero.pdf\", width = 8, height = 6)"
   ]
  }
 ],
 "metadata": {
  "kernelspec": {
   "display_name": "arivale-r - R",
   "language": "R",
   "name": "conda-env-arivale-r-r"
  },
  "language_info": {
   "codemirror_mode": "r",
   "file_extension": ".r",
   "mimetype": "text/x-r-source",
   "name": "R",
   "pygments_lexer": "r",
   "version": "3.6.1"
  }
 },
 "nbformat": 4,
 "nbformat_minor": 4
}
