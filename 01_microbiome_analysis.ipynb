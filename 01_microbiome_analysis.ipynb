{
 "cells": [
  {
   "cell_type": "markdown",
   "metadata": {},
   "source": [
    "#Rarefaction, beta-diversity analysis and alpha-diversity calculations"
   ]
  },
  {
   "cell_type": "code",
   "execution_count": null,
   "metadata": {},
   "outputs": [],
   "source": [
    "#Import packages\n",
    "library(phyloseq)\n",
    "library(vegan)\n",
    "library(ggplot2)\n",
    "library(pspearman)\n",
    "library(OneR)\n",
    "library(plyr)\n",
    "library(dplyr)"
   ]
  },
  {
   "cell_type": "code",
   "execution_count": null,
   "metadata": {},
   "outputs": [],
   "source": [
    "#import phyloseq object with 16s count data and metadata\n",
    "data<-readRDS('statins_16S.rds')\n",
    "data"
   ]
  },
  {
   "cell_type": "code",
   "execution_count": null,
   "metadata": {},
   "outputs": [],
   "source": [
    "#Rarefy the dataset to even depth\n",
    "print(min(sample_sums(data)))\n",
    "rarefied_data=rarefy_even_depth(data, sample.size = min(sample_sums(data)),\n",
    "  rngseed = 321, replace = FALSE, trimOTUs = TRUE, verbose = TRUE)\n",
    "#save the rarefied phyloseq object file\n",
    "saveRDS(rarefied_data,'rarefied_16s.rds')"
   ]
  },
  {
   "cell_type": "code",
   "execution_count": null,
   "metadata": {},
   "outputs": [],
   "source": [
    "rarefied_data<-readRDS('rarefied_16s.rds')\n",
    "rarefied_data"
   ]
  },
  {
   "cell_type": "code",
   "execution_count": null,
   "metadata": {},
   "outputs": [],
   "source": [
    "rarefied_phylum<-tax_glom(rarefied_data,\"Phylum\")\n",
    "saveRDS(rarefied_phylum,'rarefied_genus_16S.rds')"
   ]
  },
  {
   "cell_type": "code",
   "execution_count": null,
   "metadata": {},
   "outputs": [],
   "source": [
    "rarefied_genus<-tax_glom(rarefied_data,\"Genus\")"
   ]
  },
  {
   "cell_type": "code",
   "execution_count": null,
   "metadata": {},
   "outputs": [],
   "source": [
    "saveRDS(rarefied_genus,'rarefied_genus_16S.rds')"
   ]
  },
  {
   "cell_type": "code",
   "execution_count": null,
   "metadata": {},
   "outputs": [],
   "source": [
    "rarefied_genus<-readRDS('rarefied_genus_16S.rds')"
   ]
  },
  {
   "cell_type": "code",
   "execution_count": null,
   "metadata": {},
   "outputs": [],
   "source": [
    "#Perform beta-diversity analysis on the bray-curtis dissimilarity matrix\n",
    "set.seed(123)\n",
    "metadata <- as(sample_data(rarefied_genus), \"data.frame\")\n",
    "#calculate distance matrix\n",
    "bray<-distance(rarefied_genus, method=\"bray\")\n",
    "#test for association between interindividual gut microbiome variation and statin use, statin*HMG interaction\n",
    "adonis(bray~ Group*HMG,\n",
    "       data = metadata,permutations = 3000)\n",
    "adonis(bray ~ vendor_microbiome+BMI+sex+age+Group*HMG,\n",
    "       data = metadata,permutations = 3000)"
   ]
  },
  {
   "cell_type": "code",
   "execution_count": null,
   "metadata": {},
   "outputs": [],
   "source": [
    "#Perform beta-diversity analysis on the Weighted Unifrac dissimilarity matrix\n",
    "set.seed(123)\n",
    "wunifrac<-distance(rarefied_genus, method=\"wunifrac\")\n",
    "#test for association between interindividual gut microbiome variation and statin use\n",
    "adonis(wunifrac~ Group*HMG,\n",
    "       data = metadata,permutations = 3000)\n",
    "adonis(wunifrac~ vendor_microbiome+BMI+sex+age+Group*HMG,\n",
    "       data = metadata,permutations = 3000)"
   ]
  },
  {
   "cell_type": "code",
   "execution_count": null,
   "metadata": {},
   "outputs": [],
   "source": [
    "rarefied_genotek<-readRDS('rarefied_16s.rds')\n",
    "#calculate alpha-diversity measures rarefied using ASV count data\n",
    "richness_df<-estimate_richness(rarefied_genotek,measures=c('Observed','Shannon'))"
   ]
  },
  {
   "cell_type": "code",
   "execution_count": null,
   "metadata": {},
   "outputs": [],
   "source": [
    "#add participant id to the df\n",
    "richness_df$public_client_id<-sample_data(rarefied_genotek)$public_client_id"
   ]
  },
  {
   "cell_type": "code",
   "execution_count": null,
   "metadata": {},
   "outputs": [],
   "source": [
    "#export alpha-diversity dataframe for further statistical analysis\n",
    "write.csv(richness_df,'richness_df.csv')"
   ]
  }
 ],
 "metadata": {
  "kernelspec": {
   "display_name": "arivale-r - R",
   "language": "R",
   "name": "conda-env-arivale-r-r"
  },
  "language_info": {
   "codemirror_mode": "r",
   "file_extension": ".r",
   "mimetype": "text/x-r-source",
   "name": "R",
   "pygments_lexer": "r",
   "version": "3.6.1"
  }
 },
 "nbformat": 4,
 "nbformat_minor": 4
}
