{
 "cells": [
  {
   "cell_type": "code",
   "execution_count": null,
   "metadata": {},
   "outputs": [],
   "source": [
    "#load packages\n",
    "library(ggplot2)\n",
    "library(grid)\n",
    "library(plyr)\n",
    "library(gridExtra)\n",
    "library(pspearman)\n",
    "library(arivale.data.interface)"
   ]
  },
  {
   "cell_type": "code",
   "execution_count": null,
   "metadata": {},
   "outputs": [],
   "source": [
    "#load dataframe\n",
    "metab<-read.csv('statins_df.csv')\n",
    "#check dimensions\n",
    "metab<-metab[complete.cases(metab$chem_vendor), ]\n",
    "dim(metab)\n",
    "#subset LCA lab vendor\n",
    "LCA<-metab[which(metab$chem_vendor=='LCA'),]\n",
    "dim(LCA)\n",
    "#subset Quest lab vendor\n",
    "Quest<-metab[which(metab$chem_vendor=='Quest'),]\n",
    "dim(Quest)\n",
    "count(Quest,'statins_binary')\n",
    "count(LCA,'statins_binary')"
   ]
  },
  {
   "cell_type": "code",
   "execution_count": null,
   "metadata": {},
   "outputs": [],
   "source": [
    "#generate figure 1d for Quest diagnostics\n",
    "grp.mean = ddply(Quest, .(statins_binary), summarise, mean=mean(HMG))\n",
    "p <- ggplot(Quest, aes(x = LDL, y = HMG, color = factor(statins_binary))) \n",
    "p <- p + geom_point(alpha = 0.95,size=2) + geom_smooth(method = 'lm')+geom_point(shape = 1,colour = \"black\",alpha = 0.25)\n",
    "p <- p + facet_wrap(~factor(statins_binary, labels = c(0,1)))+scale_fill_manual(values = c(\"lightskyblue\",'red'))\n",
    "p <- p + theme_bw()+theme(legend.position = 'none',\n",
    "               axis.title = element_text(size = 10),\n",
    "               axis.text = element_text(size = 21),\n",
    "               strip.text.x = element_text(size = 18))\n",
    "#p <- p + xlab('LDL Cholesterol') + ylab('HMG')\n",
    "p <- p + scale_y_continuous(limits = c(.25,4.5), expand = c(.025,.025))\n",
    "p <- p + scale_color_manual(values = c(\"lightskyblue\",'darkred'))\n",
    "\n",
    "dY <- ggplot(Quest, aes(HMG, fill = factor(statins_binary, labels = c(0,1))))\n",
    "dY <- dY + geom_density(alpha = 0.95) + coord_flip()\n",
    "dY <- dY + scale_x_continuous(limits = c(.25,4.75), expand = c(.025,.025))\n",
    "dY<- dY+scale_fill_manual(values = c(\"lightskyblue\",'darkred'))\n",
    "dY <- dY + theme_bw()+theme(legend.position = \"none\",\n",
    "                     panel.grid.major.x = element_blank(),\n",
    "                     panel.grid.minor.x = element_blank(),\n",
    "                     axis.ticks = element_blank(),\n",
    "                     axis.title = element_blank(),\n",
    "                     axis.text = element_blank(),\n",
    "                     plot.margin = unit(c(10,5,12,-2), \"mm\"))\n",
    "dY <- dY\n",
    "dY <- dY + geom_vline(data = grp.mean, mapping = aes(xintercept = mean), lwd = 1.2)\n",
    "options(repr.plot.width=10)"
   ]
  },
  {
   "cell_type": "code",
   "execution_count": null,
   "metadata": {},
   "outputs": [],
   "source": [
    "#show figure 1d Quest Diagnostics\n",
    "grid.arrange(p, dY, ncol=2, nrow=1, widths=c(4, .8), heights=c(5))"
   ]
  },
  {
   "cell_type": "code",
   "execution_count": null,
   "metadata": {},
   "outputs": [],
   "source": [
    "#generate figure 1d for LCA\n",
    "grp.mean = ddply(LCA, .(statins_binary), summarise, mean=mean(HMG))\n",
    "p <- ggplot(LCA, aes(x = LDL, y = HMG, color = factor(statins_binary))) \n",
    "p <- p + geom_point(alpha = 0.95,size=2) + geom_smooth(method = 'lm')+geom_point(shape = 1,colour = \"black\",alpha = 0.25)\n",
    "p <- p + facet_wrap(~factor(statins_binary, labels = c(0,1)))+scale_fill_manual(values = c(\"lightskyblue\",'red'))\n",
    "p <- p + theme_bw()+theme(legend.position = 'none',\n",
    "               axis.title = element_text(size = 10),\n",
    "               axis.text = element_text(size = 21),\n",
    "               strip.text.x = element_text(size = 18))\n",
    "#p <- p + xlab('LDL Cholesterol') + ylab('HMG')\n",
    "p <- p + scale_y_continuous(limits = c(.25,4.75), expand = c(.025,.025))\n",
    "p <- p + scale_color_manual(values = c(\"lightskyblue\",'darkred'))\n",
    "\n",
    "dY <- ggplot(LCA, aes(HMG, fill = factor(statins_binary, labels = c(0,1))))\n",
    "dY <- dY + geom_density(alpha = 0.95) + coord_flip()\n",
    "dY <- dY + scale_x_continuous(limits = c(0.25,4.75), expand = c(.025,.025))\n",
    "dY<- dY+scale_fill_manual(values = c(\"lightskyblue\",'darkred'))\n",
    "dY <- dY + theme_bw()+theme(legend.position = \"none\",\n",
    "                     panel.grid.major.x = element_blank(),\n",
    "                     panel.grid.minor.x = element_blank(),\n",
    "                     axis.ticks = element_blank(),\n",
    "                     axis.title = element_blank(),\n",
    "                     axis.text = element_blank(),\n",
    "                     plot.margin = unit(c(10,5,12,-2), \"mm\"))\n",
    "dY <- dY\n",
    "dY <- dY + geom_vline(data = grp.mean, mapping = aes(xintercept = mean), lwd = 1.2)\n",
    "options(repr.plot.width=10)"
   ]
  },
  {
   "cell_type": "code",
   "execution_count": null,
   "metadata": {},
   "outputs": [],
   "source": [
    "#show figure 1d LCA\n",
    "grid.arrange(p, dY, ncol=2, nrow=1, widths=c(4, .8), heights=c(5))"
   ]
  },
  {
   "cell_type": "code",
   "execution_count": null,
   "metadata": {},
   "outputs": [],
   "source": [
    "#run statistics for Figure 1d (Quest)\n",
    "no_statins<-Quest[which(!Quest$statins_binary %in% c(1)),]\n",
    "statins<-Quest[which(Quest$statins_binary %in% c(1)),]"
   ]
  },
  {
   "cell_type": "code",
   "execution_count": null,
   "metadata": {},
   "outputs": [],
   "source": [
    "#spearman correlation between HMG and LDL in statin users and non-users seperately\n",
    "print('statins LDL-HMG spearman')\n",
    "spearman.test(c(statins$HMG),c(statins$LDL))\n",
    "print('non-statins LDL-HMG spearman')\n",
    "spearman.test(c(no_statins$HMG),c(no_statins$LDL))"
   ]
  },
  {
   "cell_type": "code",
   "execution_count": null,
   "metadata": {},
   "outputs": [],
   "source": [
    "library(MASS)\n",
    "#run GLM adjusting for covariates modeling HMG-LDL relationship in statin users\n",
    "#scale and center LDL\n",
    "statins$LDL_scaled<-scale(statins$LDL)\n",
    "#run GLM regression adjusting for covariates for figure 1d\n",
    "summary(glm(HMG~BMI+age+age_sq+sex+LDL_scaled,data=statins,family = Gamma(link = \"log\")))\n",
    "confint(glm(HMG~BMI+age+age_sq+sex+LDL_scaled,data=statins,family = Gamma(link = \"log\")))"
   ]
  },
  {
   "cell_type": "code",
   "execution_count": null,
   "metadata": {},
   "outputs": [],
   "source": [
    "#run GLM adjusting for covariates modeling HMG-LDL relationship in non users\n",
    "#scale and center LDL for non-statin group\n",
    "no_statins$LDL_scaled<-scale(no_statins$LDL)\n",
    "#run linear regression adjusting for covariates for figure 1d\n",
    "summary(glm(HMG~BMI+age+age_sq+sex+LDL_scaled,data=no_statins,family = Gamma(link = \"log\")))\n",
    "confint(glm(HMG~BMI+age+age_sq+sex+LDL_scaled,data=no_statins,family = Gamma(link = \"log\")))"
   ]
  },
  {
   "cell_type": "code",
   "execution_count": null,
   "metadata": {},
   "outputs": [],
   "source": [
    "#run statistics for Figure 1d (LCA)\n",
    "no_statins<-LCA[which(!LCA$statins_binary %in% c(1)),]\n",
    "statins<-LCA[which(LCA$statins_binary %in% c(1)),]\n",
    "print('statins LDL-HMG spearman (LCA)')\n",
    "spearman.test(c(statins$HMG),c(statins$LDL))\n",
    "print('non-statins LDL-HMG spearman (LCA)')\n",
    "spearman.test(c(no_statins$HMG),c(no_statins$LDL))"
   ]
  },
  {
   "cell_type": "code",
   "execution_count": null,
   "metadata": {},
   "outputs": [],
   "source": [
    "#scale and center LDL\n",
    "statins$LDL_scaled<-scale(statins$LDL)\n",
    "#run GLM regression adjusting for covariates for figure 1d\n",
    "summary(glm(HMG~BMI+age+age_sq+sex+LDL_scaled,data=statins,family = Gamma(link = \"log\")))\n",
    "confint(glm(HMG~BMI+age+age_sq+sex+LDL_scaled,data=statins,family = Gamma(link = \"log\")))"
   ]
  },
  {
   "cell_type": "code",
   "execution_count": null,
   "metadata": {},
   "outputs": [],
   "source": [
    "#scale and center LDL\n",
    "no_statins$LDL_scaled<-scale(no_statins$LDL)\n",
    "#run GLM regression adjusting for covariates for figure 1d\n",
    "summary(glm(HMG~BMI+age+age_sq+sex+LDL_scaled,data=no_statins,family = Gamma(link = \"log\")))\n",
    "confint(glm(HMG~BMI+age+age_sq+sex+LDL_scaled,data=no_statins,family = Gamma(link = \"log\")))"
   ]
  },
  {
   "cell_type": "code",
   "execution_count": null,
   "metadata": {},
   "outputs": [],
   "source": [
    "#obtain p-value for difference in HMG between statin users and non-users within Quest and LCA labs, adjusting for covariates\n",
    "print('Quest')\n",
    "coef(summary(glm(HMG~BMI+age+age_sq+sex+statins_binary,data=Quest,family = Gamma(link = \"log\"))))[, \"Pr(>|t|)\"]\n",
    "print(\"LCA\")\n",
    "coef(summary(glm(HMG~BMI+age+age_sq+sex+statins_binary,data=LCA,family = Gamma(link = \"log\"))))[, \"Pr(>|t|)\"]"
   ]
  },
  {
   "cell_type": "code",
   "execution_count": null,
   "metadata": {},
   "outputs": [],
   "source": [
    "coef(summary(glm(HMG~BMI+age+age_sq+sex+statins_binary,data=Quest,family = Gamma(link = \"log\"))))\n",
    "confint(glm(HMG~BMI+age+age_sq+sex+statins_binary,data=Quest,family = Gamma(link = \"log\")))"
   ]
  },
  {
   "cell_type": "code",
   "execution_count": null,
   "metadata": {},
   "outputs": [],
   "source": [
    "(coef(summary(glm(HMG~BMI+age+age_sq+sex+statins_binary,data=LCA,family = Gamma(link = \"log\")))))\n",
    "(confint(glm(HMG~BMI+age+age_sq+sex+statins_binary,data=LCA,family = Gamma(link = \"log\"))))"
   ]
  },
  {
   "cell_type": "code",
   "execution_count": null,
   "metadata": {},
   "outputs": [],
   "source": []
  }
 ],
 "metadata": {
  "kernelspec": {
   "display_name": "arivale-r - R",
   "language": "R",
   "name": "conda-env-arivale-r-r"
  },
  "language_info": {
   "codemirror_mode": "r",
   "file_extension": ".r",
   "mimetype": "text/x-r-source",
   "name": "R",
   "pygments_lexer": "r",
   "version": "3.6.1"
  }
 },
 "nbformat": 4,
 "nbformat_minor": 4
}
