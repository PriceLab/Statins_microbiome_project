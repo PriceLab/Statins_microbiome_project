{
 "cells": [
  {
   "cell_type": "markdown",
   "metadata": {},
   "source": [
    "#Rarefaction, beta-diversity analysis and alpha-diversity calculations"
   ]
  },
  {
   "cell_type": "code",
   "execution_count": 1,
   "metadata": {},
   "outputs": [
    {
     "name": "stderr",
     "output_type": "stream",
     "text": [
      "Loading required package: permute\n",
      "Loading required package: lattice\n",
      "This is vegan 2.5-7\n",
      "\n",
      "Attaching package: ‘dplyr’\n",
      "\n",
      "The following objects are masked from ‘package:plyr’:\n",
      "\n",
      "    arrange, count, desc, failwith, id, mutate, rename, summarise,\n",
      "    summarize\n",
      "\n",
      "The following objects are masked from ‘package:stats’:\n",
      "\n",
      "    filter, lag\n",
      "\n",
      "The following objects are masked from ‘package:base’:\n",
      "\n",
      "    intersect, setdiff, setequal, union\n",
      "\n"
     ]
    }
   ],
   "source": [
    "#Import packages\n",
    "library(phyloseq)\n",
    "library(vegan)\n",
    "library(ggplot2)\n",
    "library(pspearman)\n",
    "library(OneR)\n",
    "library(plyr)\n",
    "library(dplyr)"
   ]
  },
  {
   "cell_type": "code",
   "execution_count": 2,
   "metadata": {},
   "outputs": [],
   "source": [
    "#import phyloseq object with 16s count data and metadata\n",
    "data<-readRDS('statins_16S.rds')"
   ]
  },
  {
   "cell_type": "code",
   "execution_count": 5,
   "metadata": {},
   "outputs": [
    {
     "name": "stdout",
     "output_type": "stream",
     "text": [
      "[1] 25596\n"
     ]
    },
    {
     "name": "stderr",
     "output_type": "stream",
     "text": [
      "`set.seed(321)` was used to initialize repeatable random subsampling.\n",
      "Please record this for your records so others can reproduce.\n",
      "Try `set.seed(321); .Random.seed` for the full vector\n",
      "...\n",
      "51614OTUs were removed because they are no longer \n",
      "present in any sample after random subsampling\n",
      "\n",
      "...\n"
     ]
    }
   ],
   "source": [
    "#Rarefy the dataset to even depth\n",
    "print(min(sample_sums(data)))\n",
    "rarefied_data=rarefy_even_depth(data, sample.size = min(sample_sums(data)),\n",
    "  rngseed = 321, replace = FALSE, trimOTUs = TRUE, verbose = TRUE)\n",
    "#save the rarefied phyloseq object file\n",
    "saveRDS(rarefied_data,'rarefied_16s.rds')"
   ]
  },
  {
   "cell_type": "code",
   "execution_count": 6,
   "metadata": {},
   "outputs": [
    {
     "data": {
      "text/plain": [
       "phyloseq-class experiment-level object\n",
       "otu_table()   OTU Table:         [ 37408 taxa and 1512 samples ]\n",
       "sample_data() Sample Data:       [ 1512 samples by 32 sample variables ]\n",
       "tax_table()   Taxonomy Table:    [ 37408 taxa by 8 taxonomic ranks ]\n",
       "phy_tree()    Phylogenetic Tree: [ 37408 tips and 35496 internal nodes ]"
      ]
     },
     "metadata": {},
     "output_type": "display_data"
    }
   ],
   "source": [
    "rarefied_data<-readRDS('rarefied_16s.rds')\n",
    "rarefied_data"
   ]
  },
  {
   "cell_type": "code",
   "execution_count": 8,
   "metadata": {},
   "outputs": [],
   "source": [
    "rarefied_phylum<-tax_glom(rarefied_data,\"Phylum\")"
   ]
  },
  {
   "cell_type": "code",
   "execution_count": 9,
   "metadata": {},
   "outputs": [],
   "source": [
    "rarefied_genus<-tax_glom(rarefied_data,\"Genus\")"
   ]
  },
  {
   "cell_type": "code",
   "execution_count": 10,
   "metadata": {},
   "outputs": [],
   "source": [
    "saveRDS(rarefied_genus,'rarefied_genus_16S.rds')"
   ]
  },
  {
   "cell_type": "code",
   "execution_count": 11,
   "metadata": {},
   "outputs": [],
   "source": [
    "rarefied_genus<-readRDS('rarefied_genus_16S.rds')"
   ]
  },
  {
   "cell_type": "code",
   "execution_count": null,
   "metadata": {},
   "outputs": [],
   "source": [
    "#Perform beta-diversity analysis on the bray-curtis dissimilarity matrix\n",
    "set.seed(123)\n",
    "metadata <- as(sample_data(rarefied_genus), \"data.frame\")\n",
    "#calculate distance matrix\n",
    "bray<-distance(rarefied_genus, method=\"bray\")\n",
    "#test for association between interindividual gut microbiome variation and statin use, statin*HMG interaction\n",
    "adonis(bray~ Group*HMG,\n",
    "       data = metadata,permutations = 3000)\n",
    "adonis(bray ~ vendor_microbiome+BMI+sex+age+Group*HMG,\n",
    "       data = metadata,permutations = 3000)"
   ]
  },
  {
   "cell_type": "code",
   "execution_count": null,
   "metadata": {},
   "outputs": [],
   "source": [
    "#Perform beta-diversity analysis on the Weighted Unifrac dissimilarity matrix\n",
    "set.seed(123)\n",
    "wunifrac<-distance(rarefied_genus, method=\"wunifrac\")\n",
    "#test for association between interindividual gut microbiome variation and statin use\n",
    "adonis(wunifrac~ Group*HMG,\n",
    "       data = metadata,permutations = 3000)\n",
    "adonis(wunifrac~ vendor_microbiome+BMI+sex+age+Group*HMG,\n",
    "       data = metadata,permutations = 3000)"
   ]
  },
  {
   "cell_type": "code",
   "execution_count": null,
   "metadata": {},
   "outputs": [],
   "source": [
    "rarefied_genotek<-readRDS('rarefied_16s.rds')\n",
    "#calculate alpha-diversity measures rarefied using ASV count data\n",
    "richness_df<-estimate_richness(rarefied_genotek,measures=c('Observed','Shannon'))"
   ]
  },
  {
   "cell_type": "code",
   "execution_count": null,
   "metadata": {},
   "outputs": [],
   "source": [
    "#add participant id to the df\n",
    "richness_df$public_client_id<-sample_data(rarefied_genotek)$public_client_id"
   ]
  },
  {
   "cell_type": "code",
   "execution_count": null,
   "metadata": {},
   "outputs": [],
   "source": [
    "#export alpha-diversity dataframe for further statistical analysis\n",
    "write.csv(richness_df,'richness_df.csv')"
   ]
  },
  {
   "cell_type": "code",
   "execution_count": null,
   "metadata": {},
   "outputs": [],
   "source": []
  }
 ],
 "metadata": {
  "kernelspec": {
   "display_name": "arivale-r - R",
   "language": "R",
   "name": "conda-env-arivale-r-r"
  },
  "language_info": {
   "codemirror_mode": "r",
   "file_extension": ".r",
   "mimetype": "text/x-r-source",
   "name": "R",
   "pygments_lexer": "r",
   "version": "3.6.1"
  }
 },
 "nbformat": 4,
 "nbformat_minor": 4
}
